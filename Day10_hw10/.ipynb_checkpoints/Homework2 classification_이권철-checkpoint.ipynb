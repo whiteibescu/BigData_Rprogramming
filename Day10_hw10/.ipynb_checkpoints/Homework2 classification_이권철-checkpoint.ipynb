{
 "cells": [
  {
   "cell_type": "markdown",
   "metadata": {},
   "source": [
    "# Homework 2: Classification"
   ]
  },
  {
   "cell_type": "markdown",
   "metadata": {},
   "source": [
    "아래 데이터는 이번 과제에 사용할 \"Cardio\" 데이터입니다.   \n",
    "\n",
    "각 컬럼에 대한 간단한 설명은 다음과 같습니다. \n",
    "1.\tAge: 나이 (integer)   \n",
    "2.\tHeight: 키(cm) (float)   \n",
    "3.\tWeight: 몸무게(kg) (float)   \n",
    "4.\tGender: 성별 {‘M’, ‘F’} (binary)   \n",
    "5.\tAp_hi: 수축기 혈압 (integer)   \n",
    "6.\tAp_lo: 이완기 혈압 (integer)   \n",
    "7.\tCholesterol: 콜레스테롤 상태 (categorical)   \n",
    "8.\tGluc: 포도당 상태 (categorical)   \n",
    "9.\tSmoke: 흡연 여부 (binary)   \n",
    "10.\tAlco: 음주 여부 (binary)    \n",
    "11.\tActive: 신체 활동(운동) 여부 (binary)   \n",
    "12.\tCardio: 심혈관계질환 여부 (binary, target variable)    \n",
    "\n",
    "종속변수는 cardio입니다."
   ]
  },
  {
   "cell_type": "code",
   "execution_count": 1,
   "metadata": {},
   "outputs": [],
   "source": [
    "import numpy as np\n",
    "import pandas as pd"
   ]
  },
  {
   "cell_type": "code",
   "execution_count": 2,
   "metadata": {},
   "outputs": [],
   "source": [
    "from sklearn.metrics import accuracy_score, recall_score, precision_score, f1_score, mean_squared_error\n",
    "from sklearn.neighbors import KNeighborsClassifier\n",
    "from sklearn.metrics import confusion_matrix\n",
    "from sklearn.metrics import plot_confusion_matrix\n",
    "import sklearn.metrics as metrics\n",
    "from sklearn.model_selection import train_test_split\n",
    "from sklearn.model_selection import cross_val_score\n",
    "from sklearn.model_selection import cross_val_predict\n",
    "from sklearn.preprocessing import OneHotEncoder\n",
    "\n",
    "import matplotlib.pyplot as plt\n",
    "from IPython.display import Image"
   ]
  },
  {
   "cell_type": "code",
   "execution_count": 3,
   "metadata": {
    "scrolled": true
   },
   "outputs": [],
   "source": [
    "df = pd.read_csv('./Cardio.csv')"
   ]
  },
  {
   "cell_type": "code",
   "execution_count": 4,
   "metadata": {
    "scrolled": true
   },
   "outputs": [
    {
     "data": {
      "text/html": [
       "<div>\n",
       "<style scoped>\n",
       "    .dataframe tbody tr th:only-of-type {\n",
       "        vertical-align: middle;\n",
       "    }\n",
       "\n",
       "    .dataframe tbody tr th {\n",
       "        vertical-align: top;\n",
       "    }\n",
       "\n",
       "    .dataframe thead th {\n",
       "        text-align: right;\n",
       "    }\n",
       "</style>\n",
       "<table border=\"1\" class=\"dataframe\">\n",
       "  <thead>\n",
       "    <tr style=\"text-align: right;\">\n",
       "      <th></th>\n",
       "      <th>age</th>\n",
       "      <th>gender</th>\n",
       "      <th>height</th>\n",
       "      <th>weight</th>\n",
       "      <th>ap_hi</th>\n",
       "      <th>ap_lo</th>\n",
       "      <th>cholesterol</th>\n",
       "      <th>gluc</th>\n",
       "      <th>smoke</th>\n",
       "      <th>alco</th>\n",
       "      <th>active</th>\n",
       "      <th>cardio</th>\n",
       "    </tr>\n",
       "  </thead>\n",
       "  <tbody>\n",
       "    <tr>\n",
       "      <th>0</th>\n",
       "      <td>61</td>\n",
       "      <td>F</td>\n",
       "      <td>155</td>\n",
       "      <td>69.0</td>\n",
       "      <td>130</td>\n",
       "      <td>80</td>\n",
       "      <td>above normal</td>\n",
       "      <td>above normal</td>\n",
       "      <td>no</td>\n",
       "      <td>no</td>\n",
       "      <td>yes</td>\n",
       "      <td>no</td>\n",
       "    </tr>\n",
       "    <tr>\n",
       "      <th>1</th>\n",
       "      <td>40</td>\n",
       "      <td>F</td>\n",
       "      <td>163</td>\n",
       "      <td>71.0</td>\n",
       "      <td>110</td>\n",
       "      <td>70</td>\n",
       "      <td>normal</td>\n",
       "      <td>normal</td>\n",
       "      <td>no</td>\n",
       "      <td>no</td>\n",
       "      <td>yes</td>\n",
       "      <td>yes</td>\n",
       "    </tr>\n",
       "    <tr>\n",
       "      <th>2</th>\n",
       "      <td>60</td>\n",
       "      <td>F</td>\n",
       "      <td>165</td>\n",
       "      <td>70.0</td>\n",
       "      <td>120</td>\n",
       "      <td>80</td>\n",
       "      <td>normal</td>\n",
       "      <td>normal</td>\n",
       "      <td>no</td>\n",
       "      <td>no</td>\n",
       "      <td>yes</td>\n",
       "      <td>no</td>\n",
       "    </tr>\n",
       "    <tr>\n",
       "      <th>3</th>\n",
       "      <td>39</td>\n",
       "      <td>M</td>\n",
       "      <td>165</td>\n",
       "      <td>85.0</td>\n",
       "      <td>120</td>\n",
       "      <td>80</td>\n",
       "      <td>normal</td>\n",
       "      <td>normal</td>\n",
       "      <td>yes</td>\n",
       "      <td>yes</td>\n",
       "      <td>yes</td>\n",
       "      <td>no</td>\n",
       "    </tr>\n",
       "    <tr>\n",
       "      <th>4</th>\n",
       "      <td>64</td>\n",
       "      <td>F</td>\n",
       "      <td>155</td>\n",
       "      <td>62.0</td>\n",
       "      <td>120</td>\n",
       "      <td>80</td>\n",
       "      <td>normal</td>\n",
       "      <td>normal</td>\n",
       "      <td>no</td>\n",
       "      <td>no</td>\n",
       "      <td>yes</td>\n",
       "      <td>no</td>\n",
       "    </tr>\n",
       "  </tbody>\n",
       "</table>\n",
       "</div>"
      ],
      "text/plain": [
       "   age gender  height  weight  ap_hi  ap_lo   cholesterol          gluc smoke  \\\n",
       "0   61      F     155    69.0    130     80  above normal  above normal    no   \n",
       "1   40      F     163    71.0    110     70        normal        normal    no   \n",
       "2   60      F     165    70.0    120     80        normal        normal    no   \n",
       "3   39      M     165    85.0    120     80        normal        normal   yes   \n",
       "4   64      F     155    62.0    120     80        normal        normal    no   \n",
       "\n",
       "  alco active cardio  \n",
       "0   no    yes     no  \n",
       "1   no    yes    yes  \n",
       "2   no    yes     no  \n",
       "3  yes    yes     no  \n",
       "4   no    yes     no  "
      ]
     },
     "execution_count": 4,
     "metadata": {},
     "output_type": "execute_result"
    }
   ],
   "source": [
    "df.head()"
   ]
  },
  {
   "cell_type": "code",
   "execution_count": null,
   "metadata": {},
   "outputs": [],
   "source": []
  },
  {
   "cell_type": "markdown",
   "metadata": {},
   "source": [
    "## Question \n",
    "심혈관계질환 여부 ('cardio' = 1 or 0)을 예측하는 classification 문제를 해결하세요."
   ]
  },
  {
   "cell_type": "markdown",
   "metadata": {},
   "source": [
    "## [Guidline]\n",
    "0. [주어진 데이터를 모델에 사용할 수 있도록 전처리해주세요.](#0)\n",
    "1. [train과 test를 8:2로 나눠주세요.](#1)   \n",
    "2. [train에 대해서 로지스틱 모델을 학습시키고 모델을 평가해주세요.](#2)\n",
    "3. [train에 대해서 트리 모델을 학습시키고 모델을 평가해주세요.](#3)  \n",
    "4. [train에 대해서 랜덤 포레스트 모델을 학습시키고 모델을 평가해주세요.](#4)\n",
    "5. [트리 모델과 랜덤 포레스트 모델의 성능을 비교하고 왜 그런 차이가 났는 지 설명하세요.](#5)  \n",
    "    * 주피터 마크다운에 간략하게 적어 주시면 됩니다."
   ]
  },
  {
   "cell_type": "markdown",
   "metadata": {},
   "source": [
    "<a id='0'></a>"
   ]
  },
  {
   "cell_type": "markdown",
   "metadata": {},
   "source": [
    "## [0. 주어진 데이터를 모델에 사용할 수 있도록 전처리해주세요.](#0)"
   ]
  },
  {
   "cell_type": "markdown",
   "metadata": {},
   "source": [
    "Hint: cardio 데이터를 종속 변수로 사용하려면 no:0, yes:1 에 대응이 되야 하며 여러 numeric값이 아닌 다른 컬럼들에 대해서도 __비슷한__ 전처리가 가능합니다."
   ]
  },
  {
   "cell_type": "code",
   "execution_count": 5,
   "metadata": {},
   "outputs": [
    {
     "data": {
      "text/plain": [
       "array(['above normal', 'normal', 'well above normal'], dtype=object)"
      ]
     },
     "execution_count": 5,
     "metadata": {},
     "output_type": "execute_result"
    }
   ],
   "source": [
    "df['cholesterol'].unique()\n",
    "df['gluc'].unique()"
   ]
  },
  {
   "cell_type": "code",
   "execution_count": 6,
   "metadata": {},
   "outputs": [],
   "source": [
    "cholesterol = {'above normal':2,'normal':1,'well above normal':0}\n",
    "gluc = {'above normal':2,'normal':1,'well above normal':0}"
   ]
  },
  {
   "cell_type": "code",
   "execution_count": 7,
   "metadata": {},
   "outputs": [],
   "source": [
    "\n",
    "gender = {'M':1, 'F':0}\n",
    "smoke = {'yes':1, 'no':0}\n",
    "alco = {'yes':1, 'no':0}\n",
    "active = {'yes':1, 'no':0}\n",
    "cardio = {'yes':1, 'no':0}\n",
    "\n",
    "\n",
    "\n",
    "\n",
    "df['gender'] = df['gender'].map(gender)\n",
    "df['smoke'] = df['smoke'].map(smoke)\n",
    "df['alco'] = df['alco'].map(alco)\n",
    "df['active'] = df['active'].map(active)\n",
    "df['cardio'] = df['cardio'].map(cardio)\n",
    "df['cholesterol'] = df['cholesterol'].map(cholesterol)\n",
    "df['gluc'] = df['gluc'].map(gluc)\n",
    "\n",
    "df = pd.get_dummies(df, drop_first = True)\n",
    "\n",
    "\n"
   ]
  },
  {
   "cell_type": "code",
   "execution_count": 8,
   "metadata": {},
   "outputs": [
    {
     "data": {
      "text/html": [
       "<div>\n",
       "<style scoped>\n",
       "    .dataframe tbody tr th:only-of-type {\n",
       "        vertical-align: middle;\n",
       "    }\n",
       "\n",
       "    .dataframe tbody tr th {\n",
       "        vertical-align: top;\n",
       "    }\n",
       "\n",
       "    .dataframe thead th {\n",
       "        text-align: right;\n",
       "    }\n",
       "</style>\n",
       "<table border=\"1\" class=\"dataframe\">\n",
       "  <thead>\n",
       "    <tr style=\"text-align: right;\">\n",
       "      <th></th>\n",
       "      <th>age</th>\n",
       "      <th>gender</th>\n",
       "      <th>height</th>\n",
       "      <th>weight</th>\n",
       "      <th>ap_hi</th>\n",
       "      <th>ap_lo</th>\n",
       "      <th>cholesterol</th>\n",
       "      <th>gluc</th>\n",
       "      <th>smoke</th>\n",
       "      <th>alco</th>\n",
       "      <th>active</th>\n",
       "      <th>cardio</th>\n",
       "    </tr>\n",
       "  </thead>\n",
       "  <tbody>\n",
       "    <tr>\n",
       "      <th>0</th>\n",
       "      <td>False</td>\n",
       "      <td>False</td>\n",
       "      <td>False</td>\n",
       "      <td>False</td>\n",
       "      <td>False</td>\n",
       "      <td>False</td>\n",
       "      <td>False</td>\n",
       "      <td>False</td>\n",
       "      <td>False</td>\n",
       "      <td>False</td>\n",
       "      <td>False</td>\n",
       "      <td>False</td>\n",
       "    </tr>\n",
       "    <tr>\n",
       "      <th>1</th>\n",
       "      <td>False</td>\n",
       "      <td>False</td>\n",
       "      <td>False</td>\n",
       "      <td>False</td>\n",
       "      <td>False</td>\n",
       "      <td>False</td>\n",
       "      <td>False</td>\n",
       "      <td>False</td>\n",
       "      <td>False</td>\n",
       "      <td>False</td>\n",
       "      <td>False</td>\n",
       "      <td>False</td>\n",
       "    </tr>\n",
       "    <tr>\n",
       "      <th>2</th>\n",
       "      <td>False</td>\n",
       "      <td>False</td>\n",
       "      <td>False</td>\n",
       "      <td>False</td>\n",
       "      <td>False</td>\n",
       "      <td>False</td>\n",
       "      <td>False</td>\n",
       "      <td>False</td>\n",
       "      <td>False</td>\n",
       "      <td>False</td>\n",
       "      <td>False</td>\n",
       "      <td>False</td>\n",
       "    </tr>\n",
       "    <tr>\n",
       "      <th>3</th>\n",
       "      <td>False</td>\n",
       "      <td>False</td>\n",
       "      <td>False</td>\n",
       "      <td>False</td>\n",
       "      <td>False</td>\n",
       "      <td>False</td>\n",
       "      <td>False</td>\n",
       "      <td>False</td>\n",
       "      <td>False</td>\n",
       "      <td>False</td>\n",
       "      <td>False</td>\n",
       "      <td>False</td>\n",
       "    </tr>\n",
       "    <tr>\n",
       "      <th>4</th>\n",
       "      <td>False</td>\n",
       "      <td>False</td>\n",
       "      <td>False</td>\n",
       "      <td>False</td>\n",
       "      <td>False</td>\n",
       "      <td>False</td>\n",
       "      <td>False</td>\n",
       "      <td>False</td>\n",
       "      <td>False</td>\n",
       "      <td>False</td>\n",
       "      <td>False</td>\n",
       "      <td>False</td>\n",
       "    </tr>\n",
       "    <tr>\n",
       "      <th>...</th>\n",
       "      <td>...</td>\n",
       "      <td>...</td>\n",
       "      <td>...</td>\n",
       "      <td>...</td>\n",
       "      <td>...</td>\n",
       "      <td>...</td>\n",
       "      <td>...</td>\n",
       "      <td>...</td>\n",
       "      <td>...</td>\n",
       "      <td>...</td>\n",
       "      <td>...</td>\n",
       "      <td>...</td>\n",
       "    </tr>\n",
       "    <tr>\n",
       "      <th>69296</th>\n",
       "      <td>False</td>\n",
       "      <td>False</td>\n",
       "      <td>False</td>\n",
       "      <td>False</td>\n",
       "      <td>False</td>\n",
       "      <td>False</td>\n",
       "      <td>False</td>\n",
       "      <td>False</td>\n",
       "      <td>False</td>\n",
       "      <td>False</td>\n",
       "      <td>False</td>\n",
       "      <td>False</td>\n",
       "    </tr>\n",
       "    <tr>\n",
       "      <th>69297</th>\n",
       "      <td>False</td>\n",
       "      <td>False</td>\n",
       "      <td>False</td>\n",
       "      <td>False</td>\n",
       "      <td>False</td>\n",
       "      <td>False</td>\n",
       "      <td>False</td>\n",
       "      <td>False</td>\n",
       "      <td>False</td>\n",
       "      <td>False</td>\n",
       "      <td>False</td>\n",
       "      <td>False</td>\n",
       "    </tr>\n",
       "    <tr>\n",
       "      <th>69298</th>\n",
       "      <td>False</td>\n",
       "      <td>False</td>\n",
       "      <td>False</td>\n",
       "      <td>False</td>\n",
       "      <td>False</td>\n",
       "      <td>False</td>\n",
       "      <td>False</td>\n",
       "      <td>False</td>\n",
       "      <td>False</td>\n",
       "      <td>False</td>\n",
       "      <td>False</td>\n",
       "      <td>False</td>\n",
       "    </tr>\n",
       "    <tr>\n",
       "      <th>69299</th>\n",
       "      <td>False</td>\n",
       "      <td>False</td>\n",
       "      <td>False</td>\n",
       "      <td>False</td>\n",
       "      <td>False</td>\n",
       "      <td>False</td>\n",
       "      <td>False</td>\n",
       "      <td>False</td>\n",
       "      <td>False</td>\n",
       "      <td>False</td>\n",
       "      <td>False</td>\n",
       "      <td>False</td>\n",
       "    </tr>\n",
       "    <tr>\n",
       "      <th>69300</th>\n",
       "      <td>False</td>\n",
       "      <td>False</td>\n",
       "      <td>False</td>\n",
       "      <td>False</td>\n",
       "      <td>False</td>\n",
       "      <td>False</td>\n",
       "      <td>False</td>\n",
       "      <td>False</td>\n",
       "      <td>False</td>\n",
       "      <td>False</td>\n",
       "      <td>False</td>\n",
       "      <td>False</td>\n",
       "    </tr>\n",
       "  </tbody>\n",
       "</table>\n",
       "<p>69301 rows × 12 columns</p>\n",
       "</div>"
      ],
      "text/plain": [
       "         age  gender  height  weight  ap_hi  ap_lo  cholesterol   gluc  smoke  \\\n",
       "0      False   False   False   False  False  False        False  False  False   \n",
       "1      False   False   False   False  False  False        False  False  False   \n",
       "2      False   False   False   False  False  False        False  False  False   \n",
       "3      False   False   False   False  False  False        False  False  False   \n",
       "4      False   False   False   False  False  False        False  False  False   \n",
       "...      ...     ...     ...     ...    ...    ...          ...    ...    ...   \n",
       "69296  False   False   False   False  False  False        False  False  False   \n",
       "69297  False   False   False   False  False  False        False  False  False   \n",
       "69298  False   False   False   False  False  False        False  False  False   \n",
       "69299  False   False   False   False  False  False        False  False  False   \n",
       "69300  False   False   False   False  False  False        False  False  False   \n",
       "\n",
       "        alco  active  cardio  \n",
       "0      False   False   False  \n",
       "1      False   False   False  \n",
       "2      False   False   False  \n",
       "3      False   False   False  \n",
       "4      False   False   False  \n",
       "...      ...     ...     ...  \n",
       "69296  False   False   False  \n",
       "69297  False   False   False  \n",
       "69298  False   False   False  \n",
       "69299  False   False   False  \n",
       "69300  False   False   False  \n",
       "\n",
       "[69301 rows x 12 columns]"
      ]
     },
     "execution_count": 8,
     "metadata": {},
     "output_type": "execute_result"
    }
   ],
   "source": [
    "df.isnull()\n",
    "\n"
   ]
  },
  {
   "cell_type": "code",
   "execution_count": 9,
   "metadata": {},
   "outputs": [
    {
     "data": {
      "text/plain": [
       "0        0\n",
       "1        0\n",
       "2        0\n",
       "3        0\n",
       "4        0\n",
       "        ..\n",
       "69296    0\n",
       "69297    0\n",
       "69298    0\n",
       "69299    0\n",
       "69300    0\n",
       "Length: 69301, dtype: int64"
      ]
     },
     "execution_count": 9,
     "metadata": {},
     "output_type": "execute_result"
    }
   ],
   "source": [
    "df.isnull().sum(1) "
   ]
  },
  {
   "cell_type": "code",
   "execution_count": 10,
   "metadata": {},
   "outputs": [
    {
     "data": {
      "text/plain": [
       "age            0\n",
       "gender         0\n",
       "height         0\n",
       "weight         0\n",
       "ap_hi          0\n",
       "ap_lo          0\n",
       "cholesterol    0\n",
       "gluc           0\n",
       "smoke          0\n",
       "alco           0\n",
       "active         0\n",
       "cardio         0\n",
       "dtype: int64"
      ]
     },
     "execution_count": 10,
     "metadata": {},
     "output_type": "execute_result"
    }
   ],
   "source": [
    "df.isnull().sum()"
   ]
  },
  {
   "cell_type": "markdown",
   "metadata": {},
   "source": [
    "<a id='1'></a>"
   ]
  },
  {
   "cell_type": "markdown",
   "metadata": {},
   "source": [
    "## [1. train과 test를 8:2로 나눠주세요.](#0)"
   ]
  },
  {
   "cell_type": "code",
   "execution_count": 11,
   "metadata": {
    "scrolled": true
   },
   "outputs": [
    {
     "data": {
      "text/plain": [
       "array([[ 61.,   0., 155., ...,   0.,   0.,   1.],\n",
       "       [ 40.,   0., 163., ...,   0.,   0.,   1.],\n",
       "       [ 60.,   0., 165., ...,   0.,   0.,   1.],\n",
       "       ...,\n",
       "       [ 52.,   1., 183., ...,   0.,   1.,   0.],\n",
       "       [ 61.,   0., 163., ...,   0.,   0.,   0.],\n",
       "       [ 56.,   0., 170., ...,   0.,   0.,   1.]])"
      ]
     },
     "execution_count": 11,
     "metadata": {},
     "output_type": "execute_result"
    }
   ],
   "source": [
    "X = df.iloc[:, :-1].values\n",
    "y = df.iloc[:, -1].values\n",
    "X"
   ]
  },
  {
   "cell_type": "code",
   "execution_count": 12,
   "metadata": {},
   "outputs": [],
   "source": [
    "X_train, X_test, y_train, y_test = train_test_split(X,\n",
    "                                                    y,\n",
    "                                                    test_size=0.2,\n",
    "                                                    random_state= 1229)"
   ]
  },
  {
   "cell_type": "code",
   "execution_count": 13,
   "metadata": {},
   "outputs": [
    {
     "name": "stdout",
     "output_type": "stream",
     "text": [
      "X_train shape: (55440, 11)\n",
      "X_test shape: (13861, 11)\n",
      "y_train shape: (55440,)\n",
      "y_test shape: (13861,)\n"
     ]
    }
   ],
   "source": [
    "print('X_train shape:', X_train.shape)\n",
    "print('X_test shape:', X_test.shape)\n",
    "print('y_train shape:', y_train.shape)\n",
    "print('y_test shape:', y_test.shape)"
   ]
  },
  {
   "cell_type": "code",
   "execution_count": null,
   "metadata": {},
   "outputs": [],
   "source": []
  },
  {
   "cell_type": "markdown",
   "metadata": {},
   "source": [
    "<a id='2'></a>"
   ]
  },
  {
   "cell_type": "markdown",
   "metadata": {},
   "source": [
    "## [2. train에 대해서 로지스틱 모델을 학습시키고 모델을 평가해주세요.](#0)"
   ]
  },
  {
   "cell_type": "code",
   "execution_count": 14,
   "metadata": {
    "scrolled": true
   },
   "outputs": [
    {
     "name": "stderr",
     "output_type": "stream",
     "text": [
      "C:\\ProgramData\\Anaconda3\\lib\\site-packages\\sklearn\\linear_model\\_logistic.py:762: ConvergenceWarning: lbfgs failed to converge (status=1):\n",
      "STOP: TOTAL NO. of ITERATIONS REACHED LIMIT.\n",
      "\n",
      "Increase the number of iterations (max_iter) or scale the data as shown in:\n",
      "    https://scikit-learn.org/stable/modules/preprocessing.html\n",
      "Please also refer to the documentation for alternative solver options:\n",
      "    https://scikit-learn.org/stable/modules/linear_model.html#logistic-regression\n",
      "  n_iter_i = _check_optimize_result(\n"
     ]
    }
   ],
   "source": [
    "from sklearn.linear_model import LogisticRegression\n",
    "\n",
    "logistic_ = LogisticRegression()\n",
    "logistic_.fit(X_train, y_train)\n",
    "\n",
    "train_ = logistic_.predict(X_train)\n",
    "test_ = logistic_.predict(X_test)\n",
    "\n",
    "\n",
    "\n"
   ]
  },
  {
   "cell_type": "code",
   "execution_count": 15,
   "metadata": {},
   "outputs": [
    {
     "name": "stdout",
     "output_type": "stream",
     "text": [
      "Train Data\n",
      "정확도:  0.699\n",
      "Precision: 0.711\n",
      "Recall:  0.669\n",
      "F1 Score: 0.69\n",
      "Test Data\n",
      "정확도:  0.701\n",
      "Precision: 0.717\n",
      "Recall:  0.669\n",
      "F1 Score: 0.692\n"
     ]
    }
   ],
   "source": [
    "\n",
    "print('Train Data')\n",
    "print('정확도: ', round(accuracy_score(y_train, train_),3))\n",
    "print('Precision:', round(precision_score(y_train, train_),3))\n",
    "print('Recall: ', round(recall_score(y_train, train_),3))\n",
    "print('F1 Score:', round(f1_score(y_train, train_),3))\n",
    "\n",
    "\n",
    "print('Test Data')\n",
    "print('정확도: ', round(accuracy_score(y_test, test_),3))\n",
    "print('Precision:', round(precision_score(y_test, test_),3))\n",
    "print('Recall: ', round(recall_score(y_test, test_),3))\n",
    "print('F1 Score:', round(f1_score(y_test, test_),3))\n"
   ]
  },
  {
   "cell_type": "code",
   "execution_count": 16,
   "metadata": {},
   "outputs": [
    {
     "name": "stdout",
     "output_type": "stream",
     "text": [
      "회귀계수: [[ 4.51122006e-02  2.77601218e-01 -4.33932495e-02  2.05127152e-02\n",
      "   3.19055719e-02  2.98823071e-04 -2.78419417e-01  1.80074573e-02\n",
      "  -1.35677763e-01 -1.34644148e-01 -3.29315071e-01]]\n",
      "Accuracy: 0.7\n"
     ]
    }
   ],
   "source": [
    "print('회귀계수:', logistic_.coef_)\n",
    "print('Accuracy:', round(logistic_.score(X, y),3))"
   ]
  },
  {
   "cell_type": "code",
   "execution_count": 17,
   "metadata": {},
   "outputs": [
    {
     "name": "stdout",
     "output_type": "stream",
     "text": [
      "Accuracy:  0.7\n",
      "Recall:  0.669\n",
      "Precision: 0.712\n",
      "F1 Score: 0.69\n"
     ]
    }
   ],
   "source": [
    "pred_logistic = logistic_.predict(X)\n",
    "\n",
    "print('Accuracy: ', round(accuracy_score(y, pred_logistic),3))\n",
    "print('Recall: ', round(recall_score(y, pred_logistic),3))\n",
    "print('Precision:', round(precision_score(y, pred_logistic),3))\n",
    "print('F1 Score:', round(f1_score(y, pred_logistic),3))"
   ]
  },
  {
   "cell_type": "code",
   "execution_count": null,
   "metadata": {},
   "outputs": [],
   "source": []
  },
  {
   "cell_type": "markdown",
   "metadata": {},
   "source": [
    "<a id='3'></a>"
   ]
  },
  {
   "cell_type": "markdown",
   "metadata": {},
   "source": [
    "## [3. train에 대해서 트리 모델을 학습시키고 모델을 평가해주세요.](#0)"
   ]
  },
  {
   "cell_type": "code",
   "execution_count": 18,
   "metadata": {},
   "outputs": [],
   "source": [
    "from sklearn.tree import DecisionTreeClassifier\n",
    "tree = DecisionTreeClassifier()\n",
    "tree.fit(X_train, y_train)\n",
    "\n",
    "train_pred_tree = tree.predict(X_train)\n",
    "test_pred_tree = tree.predict(X_test)"
   ]
  },
  {
   "cell_type": "code",
   "execution_count": 19,
   "metadata": {},
   "outputs": [
    {
     "name": "stdout",
     "output_type": "stream",
     "text": [
      "Train Data\n",
      "Accuracy:  0.981\n",
      "Precision: 0.996\n",
      "Recall:  0.965\n",
      "F1 Score: 0.98\n"
     ]
    }
   ],
   "source": [
    "print('Train Data')\n",
    "print('Accuracy: ', round(accuracy_score(y_train, train_pred_tree),3))\n",
    "print('Precision:', round(precision_score(y_train, train_pred_tree),3))\n",
    "print('Recall: ', round(recall_score(y_train, train_pred_tree),3))\n",
    "print('F1 Score:', round(f1_score(y_train, train_pred_tree),3))"
   ]
  },
  {
   "cell_type": "code",
   "execution_count": 20,
   "metadata": {
    "scrolled": false
   },
   "outputs": [
    {
     "name": "stdout",
     "output_type": "stream",
     "text": [
      "Test Data\n",
      "Accuracy:  0.637\n",
      "Precision: 0.644\n",
      "Recall:  0.618\n",
      "F1 Score: 0.631\n"
     ]
    }
   ],
   "source": [
    "print('Test Data')\n",
    "print('Accuracy: ', round(accuracy_score(y_test, test_pred_tree),3))\n",
    "print('Precision:', round(precision_score(y_test, test_pred_tree),3))\n",
    "print('Recall: ', round(recall_score(y_test, test_pred_tree),3))\n",
    "print('F1 Score:', round(f1_score(y_test, test_pred_tree),3))"
   ]
  },
  {
   "cell_type": "code",
   "execution_count": 21,
   "metadata": {},
   "outputs": [],
   "source": [
    "#복잡한 트리는 기존에 있는 데이터들은 잘 예측하나, 새로운 데이터는 잘 예측하지 못하고 있음\n",
    "#적당한 가지에서 잘라내야함, pruning\n",
    "tree = DecisionTreeClassifier(max_depth = 3)\n",
    "tree.fit(X_train, y_train)\n",
    "\n",
    "train_pred_tree = tree.predict(X_train)\n",
    "test_pred_tree = tree.predict(X_test)"
   ]
  },
  {
   "cell_type": "code",
   "execution_count": 22,
   "metadata": {},
   "outputs": [
    {
     "name": "stdout",
     "output_type": "stream",
     "text": [
      "Train Data\n",
      "Accuracy:  0.726\n",
      "Precision: 0.75\n",
      "Recall:  0.676\n",
      "F1 Score: 0.711\n"
     ]
    }
   ],
   "source": [
    "print('Train Data')\n",
    "print('Accuracy: ', round(accuracy_score(y_train, train_pred_tree),3))\n",
    "print('Precision:', round(precision_score(y_train, train_pred_tree),3))\n",
    "print('Recall: ', round(recall_score(y_train, train_pred_tree),3))\n",
    "print('F1 Score:', round(f1_score(y_train, train_pred_tree),3))"
   ]
  },
  {
   "cell_type": "code",
   "execution_count": 23,
   "metadata": {},
   "outputs": [
    {
     "name": "stdout",
     "output_type": "stream",
     "text": [
      "Test Data\n",
      "Accuracy:  0.724\n",
      "Precision: 0.753\n",
      "Recall:  0.67\n",
      "F1 Score: 0.709\n"
     ]
    }
   ],
   "source": [
    "print('Test Data')\n",
    "print('Accuracy: ', round(accuracy_score(y_test, test_pred_tree),3))\n",
    "print('Precision:', round(precision_score(y_test, test_pred_tree),3))\n",
    "print('Recall: ', round(recall_score(y_test, test_pred_tree),3))\n",
    "print('F1 Score:', round(f1_score(y_test, test_pred_tree),3))"
   ]
  },
  {
   "cell_type": "markdown",
   "metadata": {},
   "source": [
    "<a id='4'></a>"
   ]
  },
  {
   "cell_type": "markdown",
   "metadata": {},
   "source": [
    "## [4. train에 대해서 랜덤 포레스트 모델을 학습시키고 모델을 평가해주세요.](#0)"
   ]
  },
  {
   "cell_type": "code",
   "execution_count": 24,
   "metadata": {},
   "outputs": [
    {
     "name": "stdout",
     "output_type": "stream",
     "text": [
      "Train Data\n",
      "정확도:  0.98\n",
      "Test Data\n",
      "정확도:  0.706\n"
     ]
    }
   ],
   "source": [
    "from sklearn.ensemble import RandomForestClassifier\n",
    "\n",
    "randomforest = RandomForestClassifier()\n",
    "randomforest.fit(X_train, y_train)\n",
    "\n",
    "train_pred_randomforest = randomforest.predict(X_train)\n",
    "test_pred_randomforest = randomforest.predict(X_test)\n",
    "\n",
    "print('Train Data')\n",
    "print('정확도: ', round(accuracy_score(y_train, train_pred_randomforest),3))\n",
    "print('Test Data')\n",
    "print('정확도: ', round(accuracy_score(y_test, test_pred_randomforest),3))"
   ]
  },
  {
   "cell_type": "markdown",
   "metadata": {},
   "source": [
    "<a id='5'></a>"
   ]
  },
  {
   "cell_type": "markdown",
   "metadata": {},
   "source": [
    "## [5. 트리 모델과 랜덤 포레스트 모델의 성능을 비교하고 왜 그런 차이가 났는 지 설명하세요.](#0)"
   ]
  },
  {
   "cell_type": "markdown",
   "metadata": {},
   "source": [
    "트리모델\n",
    "\n",
    "트리 모델은 머신 러닝에 사용되는 지도 학습 알고리즘 입니다. 이름에서 알 수 있듯이 노드가 있는 트리와 같습니다. 분기는 기준의 수에 따라 다릅니다. 임계값 단위에 도달할 때까지 데이터를 이와 같은 분기로 분할합니다. 의사 결정 트리에는 루트 노드, 자식 노드 및 리프 노드가 있습니다.\n",
    "\n",
    "재귀 알고리즘을 사용합니다. 데이터를 정확하게 처리하고 선형 패턴에 가장 적합합니다. 대용량 데이터를 쉽게 처리하고 시간이 덜 걸립니다.\n",
    "\n",
    "장점은 쉽고 투명한 과정을 거치며 숫자 및 범주 데이터 모두 처리합니다.\n",
    "데이터가 클수록 더 나은 결과를 보이고 속도가 빠릅니다.\n",
    "단점운 과적합될 수 있으며 가지 치기 과정을 해야하는 경우가 생깁니다.\n",
    "가지 치기를 하면 과적합을 방지하여 더 높은 \n",
    "최적화가 보장되지는 않습니다.\n",
    "\n",
    "\n",
    "\n",
    "\n",
    "랜덤 포레스트 모델\n",
    "\n",
    "랜덤 포레스트 모델은 기본적인 차이점은 단일 결정에 의존하지 않는다는 것입니다. 여러 결정을 기반으로 무작위 결정을 조합하고 다수를 기반으로 최종 결정을 내립니다.\n",
    "\n",
    "최상의 예측을 검색하지 않습니다. 대신 여러 무작위 예측을 수행합니다. 따라서 더 많은 다양성이 추가되고 예측이 훨씬 원활해집니다.\n",
    "\n",
    "랜덤 포레스트 모델의 장점은 강력하고 정확하며 병렬 방식으로 트리를 실행시킵니다. 단점은 느리며 선형 방법에는 사용할 수 없습니다.\n",
    "고차원 데이터의 경우 더 나쁜 결과가 나올 수 있습니다.\n",
    "\n",
    "\n",
    "\n",
    "\n",
    "트리 모델과 랜덤 포레스트 모델의 성능 비교\n",
    "\n",
    "랜덤 포레스트 모델이 트리 모델보다 더 나은 Accuracy를 보여주었습니다.\n",
    "하지만 트리 모델에 max_depth = 3으로 가지치기를 시도하자, 가지치기를 시도한\n",
    "트리 모델이 과정합을 방지하고 정확도가 올라가 트리 모델의 '새로운 데이터에 대한 예측을 잘못한다는 점'이 보완되었습니다. 기존 트리 모델보다 Train Data에 대한 Precision, Recall, F1 Score, Accuracy의 수치들이 더 낮아졌지만 Test Data에 대해서는 Precision, Recall, F1 Score, Accuracy의 수치들이 더 높은 값을 기록했습니다. 또한 max_depth = 3으로 가지치기한 트리 모델이 랜덤 포레스트 모델보다 Test Data에 대해서 약간 더 높은 Accuracy를 보여주었습니다.\n",
    "\n",
    "트리 모델은 빠르고 큰 데이터 세트, 특히 선형 데이터 세트에서 쉽게 작동하지만 반면에 랜덤 포레스트 모델은 엄격한 훈련이 필요합니다. 따라서 랜덤 포레스트 모델은 시간이 더 많이 걸립니다.\n",
    "트리 모델은 랜덤 포레스트 모델에 비해 매우 쉽습니다. 트리 모델은 몇 가지 결정을 결합하는 반면 랜덤 포레스트 모델은 여러 의사 결정 트리를 결합합니다. 따라서 프로세스가 길고 느리지만 랜덤 포레스트 모델은 여러 무작위 예측을 수행하기 때문에 더 많은 다양성이 추가되어 예측이 훨씬 원할해집니다.\n",
    "\n",
    "랜덤 포레스트 모델은 단일 결정에 의존하지 않고 여러 결정을 기반으로 무작위 결정을 조합하고 다수를 기반으로 최종결정을 내리므로 랜덤 포레스트 모델이 트리 모델보다 더 나은 Accuracy를 보여주었습니다.\n",
    "그러나 트리 모델의 '복잡한 트리는 기존에 있는 데이터들은 잘 예측하나, 새로운 데이터는 잘 예측하지 못한다'는 단점을 보완하기 위해 과적합을 방지하고 정확도를 높일 수 있는 max_depth = 3로 pruning(적당한 가지에서 잘라내기)을 시도하여 Accuracy를 높이자 테스트 데이터에서 랜덤 포레스트 모델보다 약간 더 높은 Accuracy를 보여주었습니다."
   ]
  }
 ],
 "metadata": {
  "kernelspec": {
   "display_name": "Python 3",
   "language": "python",
   "name": "python3"
  },
  "language_info": {
   "codemirror_mode": {
    "name": "ipython",
    "version": 3
   },
   "file_extension": ".py",
   "mimetype": "text/x-python",
   "name": "python",
   "nbconvert_exporter": "python",
   "pygments_lexer": "ipython3",
   "version": "3.8.8"
  }
 },
 "nbformat": 4,
 "nbformat_minor": 4
}
