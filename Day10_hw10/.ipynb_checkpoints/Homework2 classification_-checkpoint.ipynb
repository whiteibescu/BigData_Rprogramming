{
 "cells": [
  {
   "cell_type": "markdown",
   "metadata": {},
   "source": [
    "# Homework 2: Classification"
   ]
  },
  {
   "cell_type": "markdown",
   "metadata": {},
   "source": [
    "아래 데이터는 이번 과제에 사용할 \"Cardio\" 데이터입니다.   \n",
    "\n",
    "각 컬럼에 대한 간단한 설명은 다음과 같습니다. \n",
    "1.\tAge: 나이 (integer)   \n",
    "2.\tHeight: 키(cm) (float)   \n",
    "3.\tWeight: 몸무게(kg) (float)   \n",
    "4.\tGender: 성별 {‘M’, ‘F’} (binary)   \n",
    "5.\tAp_hi: 수축기 혈압 (integer)   \n",
    "6.\tAp_lo: 이완기 혈압 (integer)   \n",
    "7.\tCholesterol: 콜레스테롤 상태 (categorical)   \n",
    "8.\tGluc: 포도당 상태 (categorical)   \n",
    "9.\tSmoke: 흡연 여부 (binary)   \n",
    "10.\tAlco: 음주 여부 (binary)    \n",
    "11.\tActive: 신체 활동(운동) 여부 (binary)   \n",
    "12.\tCardio: 심혈관계질환 여부 (binary, target variable)    \n",
    "\n",
    "종속변수는 cardio입니다."
   ]
  },
  {
   "cell_type": "code",
   "execution_count": 1,
   "metadata": {},
   "outputs": [],
   "source": [
    "import numpy as np\n",
    "import pandas as pd"
   ]
  },
  {
   "cell_type": "code",
   "execution_count": 2,
   "metadata": {},
   "outputs": [],
   "source": [
    "from sklearn.metrics import accuracy_score, recall_score, precision_score, f1_score, mean_squared_error\n",
    "from sklearn.neighbors import KNeighborsClassifier\n",
    "from sklearn.metrics import confusion_matrix\n",
    "from sklearn.metrics import plot_confusion_matrix\n",
    "import sklearn.metrics as metrics\n",
    "from sklearn.model_selection import train_test_split\n",
    "from sklearn.model_selection import cross_val_score\n",
    "from sklearn.model_selection import cross_val_predict\n",
    "from sklearn.preprocessing import OneHotEncoder\n",
    "\n",
    "import matplotlib.pyplot as plt\n",
    "from IPython.display import Image"
   ]
  },
  {
   "cell_type": "code",
   "execution_count": 3,
   "metadata": {
    "scrolled": true
   },
   "outputs": [],
   "source": [
    "df = pd.read_csv('./Cardio.csv')"
   ]
  },
  {
   "cell_type": "code",
   "execution_count": 4,
   "metadata": {
    "scrolled": true
   },
   "outputs": [
    {
     "data": {
      "text/html": [
       "<div>\n",
       "<style scoped>\n",
       "    .dataframe tbody tr th:only-of-type {\n",
       "        vertical-align: middle;\n",
       "    }\n",
       "\n",
       "    .dataframe tbody tr th {\n",
       "        vertical-align: top;\n",
       "    }\n",
       "\n",
       "    .dataframe thead th {\n",
       "        text-align: right;\n",
       "    }\n",
       "</style>\n",
       "<table border=\"1\" class=\"dataframe\">\n",
       "  <thead>\n",
       "    <tr style=\"text-align: right;\">\n",
       "      <th></th>\n",
       "      <th>age</th>\n",
       "      <th>gender</th>\n",
       "      <th>height</th>\n",
       "      <th>weight</th>\n",
       "      <th>ap_hi</th>\n",
       "      <th>ap_lo</th>\n",
       "      <th>cholesterol</th>\n",
       "      <th>gluc</th>\n",
       "      <th>smoke</th>\n",
       "      <th>alco</th>\n",
       "      <th>active</th>\n",
       "      <th>cardio</th>\n",
       "    </tr>\n",
       "  </thead>\n",
       "  <tbody>\n",
       "    <tr>\n",
       "      <th>0</th>\n",
       "      <td>61</td>\n",
       "      <td>F</td>\n",
       "      <td>155</td>\n",
       "      <td>69.0</td>\n",
       "      <td>130</td>\n",
       "      <td>80</td>\n",
       "      <td>above normal</td>\n",
       "      <td>above normal</td>\n",
       "      <td>no</td>\n",
       "      <td>no</td>\n",
       "      <td>yes</td>\n",
       "      <td>no</td>\n",
       "    </tr>\n",
       "    <tr>\n",
       "      <th>1</th>\n",
       "      <td>40</td>\n",
       "      <td>F</td>\n",
       "      <td>163</td>\n",
       "      <td>71.0</td>\n",
       "      <td>110</td>\n",
       "      <td>70</td>\n",
       "      <td>normal</td>\n",
       "      <td>normal</td>\n",
       "      <td>no</td>\n",
       "      <td>no</td>\n",
       "      <td>yes</td>\n",
       "      <td>yes</td>\n",
       "    </tr>\n",
       "    <tr>\n",
       "      <th>2</th>\n",
       "      <td>60</td>\n",
       "      <td>F</td>\n",
       "      <td>165</td>\n",
       "      <td>70.0</td>\n",
       "      <td>120</td>\n",
       "      <td>80</td>\n",
       "      <td>normal</td>\n",
       "      <td>normal</td>\n",
       "      <td>no</td>\n",
       "      <td>no</td>\n",
       "      <td>yes</td>\n",
       "      <td>no</td>\n",
       "    </tr>\n",
       "    <tr>\n",
       "      <th>3</th>\n",
       "      <td>39</td>\n",
       "      <td>M</td>\n",
       "      <td>165</td>\n",
       "      <td>85.0</td>\n",
       "      <td>120</td>\n",
       "      <td>80</td>\n",
       "      <td>normal</td>\n",
       "      <td>normal</td>\n",
       "      <td>yes</td>\n",
       "      <td>yes</td>\n",
       "      <td>yes</td>\n",
       "      <td>no</td>\n",
       "    </tr>\n",
       "    <tr>\n",
       "      <th>4</th>\n",
       "      <td>64</td>\n",
       "      <td>F</td>\n",
       "      <td>155</td>\n",
       "      <td>62.0</td>\n",
       "      <td>120</td>\n",
       "      <td>80</td>\n",
       "      <td>normal</td>\n",
       "      <td>normal</td>\n",
       "      <td>no</td>\n",
       "      <td>no</td>\n",
       "      <td>yes</td>\n",
       "      <td>no</td>\n",
       "    </tr>\n",
       "  </tbody>\n",
       "</table>\n",
       "</div>"
      ],
      "text/plain": [
       "   age gender  height  weight  ap_hi  ap_lo   cholesterol          gluc smoke  \\\n",
       "0   61      F     155    69.0    130     80  above normal  above normal    no   \n",
       "1   40      F     163    71.0    110     70        normal        normal    no   \n",
       "2   60      F     165    70.0    120     80        normal        normal    no   \n",
       "3   39      M     165    85.0    120     80        normal        normal   yes   \n",
       "4   64      F     155    62.0    120     80        normal        normal    no   \n",
       "\n",
       "  alco active cardio  \n",
       "0   no    yes     no  \n",
       "1   no    yes    yes  \n",
       "2   no    yes     no  \n",
       "3  yes    yes     no  \n",
       "4   no    yes     no  "
      ]
     },
     "execution_count": 4,
     "metadata": {},
     "output_type": "execute_result"
    }
   ],
   "source": [
    "df.head()"
   ]
  },
  {
   "cell_type": "code",
   "execution_count": null,
   "metadata": {},
   "outputs": [],
   "source": []
  },
  {
   "cell_type": "markdown",
   "metadata": {},
   "source": [
    "## Question \n",
    "심혈관계질환 여부 ('cardio' = 1 or 0)을 예측하는 classification 문제를 해결하세요."
   ]
  },
  {
   "cell_type": "markdown",
   "metadata": {},
   "source": [
    "## [Guidline]\n",
    "0. [주어진 데이터를 모델에 사용할 수 있도록 전처리해주세요.](#0)\n",
    "1. [train과 test를 8:2로 나눠주세요.](#1)   \n",
    "2. [train에 대해서 로지스틱 모델을 학습시키고 모델을 평가해주세요.](#2)\n",
    "3. [train에 대해서 트리 모델을 학습시키고 모델을 평가해주세요.](#3)  \n",
    "4. [train에 대해서 랜덤 포레스트 모델을 학습시키고 모델을 평가해주세요.](#4)\n",
    "5. [트리 모델과 랜덤 포레스트 모델의 성능을 비교하고 왜 그런 차이가 났는 지 설명하세요.](#5)  \n",
    "    * 주피터 마크다운에 간략하게 적어 주시면 됩니다."
   ]
  },
  {
   "cell_type": "markdown",
   "metadata": {},
   "source": [
    "<a id='0'></a>"
   ]
  },
  {
   "cell_type": "markdown",
   "metadata": {},
   "source": [
    "## [0. 주어진 데이터를 모델에 사용할 수 있도록 전처리해주세요.](#0)"
   ]
  },
  {
   "cell_type": "markdown",
   "metadata": {},
   "source": [
    "Hint: cardio 데이터를 종속 변수로 사용하려면 no:0, yes:1 에 대응이 되야 하며 여러 numeric값이 아닌 다른 컬럼들에 대해서도 __비슷한__ 전처리가 가능합니다."
   ]
  },
  {
   "cell_type": "code",
   "execution_count": 5,
   "metadata": {},
   "outputs": [
    {
     "data": {
      "text/plain": [
       "array(['above normal', 'normal', 'well above normal'], dtype=object)"
      ]
     },
     "execution_count": 5,
     "metadata": {},
     "output_type": "execute_result"
    }
   ],
   "source": [
    "df['cholesterol'].unique()\n",
    "df['gluc'].unique()"
   ]
  },
  {
   "cell_type": "code",
   "execution_count": 6,
   "metadata": {},
   "outputs": [],
   "source": [
    "ch = {'above normal':2,'normal':1,'well above normal':0}\n",
    "gl = {'above normal':2,'normal':1,'well above normal':0}"
   ]
  },
  {
   "cell_type": "code",
   "execution_count": 7,
   "metadata": {},
   "outputs": [
    {
     "ename": "NameError",
     "evalue": "name 'cholesterol' is not defined",
     "output_type": "error",
     "traceback": [
      "\u001b[1;31m---------------------------------------------------------------------------\u001b[0m",
      "\u001b[1;31mNameError\u001b[0m                                 Traceback (most recent call last)",
      "\u001b[1;32m<ipython-input-7-ae4ea7cd77e4>\u001b[0m in \u001b[0;36m<module>\u001b[1;34m\u001b[0m\n\u001b[0;32m     13\u001b[0m \u001b[0mdf\u001b[0m\u001b[1;33m[\u001b[0m\u001b[1;34m'active'\u001b[0m\u001b[1;33m]\u001b[0m \u001b[1;33m=\u001b[0m \u001b[0mdf\u001b[0m\u001b[1;33m[\u001b[0m\u001b[1;34m'active'\u001b[0m\u001b[1;33m]\u001b[0m\u001b[1;33m.\u001b[0m\u001b[0mmap\u001b[0m\u001b[1;33m(\u001b[0m\u001b[0mactive\u001b[0m\u001b[1;33m)\u001b[0m\u001b[1;33m\u001b[0m\u001b[1;33m\u001b[0m\u001b[0m\n\u001b[0;32m     14\u001b[0m \u001b[0mdf\u001b[0m\u001b[1;33m[\u001b[0m\u001b[1;34m'cardio'\u001b[0m\u001b[1;33m]\u001b[0m \u001b[1;33m=\u001b[0m \u001b[0mdf\u001b[0m\u001b[1;33m[\u001b[0m\u001b[1;34m'cardio'\u001b[0m\u001b[1;33m]\u001b[0m\u001b[1;33m.\u001b[0m\u001b[0mmap\u001b[0m\u001b[1;33m(\u001b[0m\u001b[0mcardio\u001b[0m\u001b[1;33m)\u001b[0m\u001b[1;33m\u001b[0m\u001b[1;33m\u001b[0m\u001b[0m\n\u001b[1;32m---> 15\u001b[1;33m \u001b[0mdf\u001b[0m\u001b[1;33m[\u001b[0m\u001b[1;34m'cholesterol'\u001b[0m\u001b[1;33m]\u001b[0m \u001b[1;33m=\u001b[0m \u001b[0mdf\u001b[0m\u001b[1;33m[\u001b[0m\u001b[1;34m'cholesterol'\u001b[0m\u001b[1;33m]\u001b[0m\u001b[1;33m.\u001b[0m\u001b[0mmap\u001b[0m\u001b[1;33m(\u001b[0m\u001b[0mcholesterol\u001b[0m\u001b[1;33m)\u001b[0m\u001b[1;33m\u001b[0m\u001b[1;33m\u001b[0m\u001b[0m\n\u001b[0m\u001b[0;32m     16\u001b[0m \u001b[0mdf\u001b[0m\u001b[1;33m[\u001b[0m\u001b[1;34m'gluc'\u001b[0m\u001b[1;33m]\u001b[0m \u001b[1;33m=\u001b[0m \u001b[0mdf\u001b[0m\u001b[1;33m[\u001b[0m\u001b[1;34m'gluc'\u001b[0m\u001b[1;33m]\u001b[0m\u001b[1;33m.\u001b[0m\u001b[0mmap\u001b[0m\u001b[1;33m(\u001b[0m\u001b[0mgluc\u001b[0m\u001b[1;33m)\u001b[0m\u001b[1;33m\u001b[0m\u001b[1;33m\u001b[0m\u001b[0m\n\u001b[0;32m     17\u001b[0m \u001b[1;33m\u001b[0m\u001b[0m\n",
      "\u001b[1;31mNameError\u001b[0m: name 'cholesterol' is not defined"
     ]
    }
   ],
   "source": [
    "\n",
    "gender = {'M':1, 'F':0}\n",
    "smoke = {'yes':1, 'no':0}\n",
    "alco = {'yes':1, 'no':0}\n",
    "active = {'yes':1, 'no':0}\n",
    "cardio = {'yes':1, 'no':0}\n",
    "\n",
    "\n",
    "\n",
    "\n",
    "df['gender'] = df['gender'].map(gender)\n",
    "df['smoke'] = df['smoke'].map(smoke)\n",
    "df['alco'] = df['alco'].map(alco)\n",
    "df['active'] = df['active'].map(active)\n",
    "df['cardio'] = df['cardio'].map(cardio)\n",
    "df['cholesterol'] = df['cholesterol'].map(cholesterol)\n",
    "df['gluc'] = df['gluc'].map(gluc)\n",
    "\n",
    "df = pd.get_dummies(df, drop_first = True)\n",
    "\n",
    "\n"
   ]
  },
  {
   "cell_type": "code",
   "execution_count": null,
   "metadata": {},
   "outputs": [],
   "source": [
    "df.isnull()\n",
    "\n"
   ]
  },
  {
   "cell_type": "code",
   "execution_count": null,
   "metadata": {},
   "outputs": [],
   "source": [
    "df.isnull().sum(1) "
   ]
  },
  {
   "cell_type": "code",
   "execution_count": null,
   "metadata": {},
   "outputs": [],
   "source": [
    "df.isnull().sum()"
   ]
  },
  {
   "cell_type": "markdown",
   "metadata": {},
   "source": [
    "<a id='1'></a>"
   ]
  },
  {
   "cell_type": "markdown",
   "metadata": {},
   "source": [
    "## [1. train과 test를 8:2로 나눠주세요.](#0)"
   ]
  },
  {
   "cell_type": "code",
   "execution_count": null,
   "metadata": {
    "scrolled": true
   },
   "outputs": [],
   "source": [
    "X = df.iloc[:, :-1].values\n",
    "y = df.iloc[:, -1].values\n",
    "X"
   ]
  },
  {
   "cell_type": "code",
   "execution_count": null,
   "metadata": {},
   "outputs": [],
   "source": [
    "X_train, X_test, y_train, y_test = train_test_split(X,\n",
    "                                                    y,\n",
    "                                                    test_size=0.2,\n",
    "                                                    random_state= 1229)"
   ]
  },
  {
   "cell_type": "code",
   "execution_count": null,
   "metadata": {},
   "outputs": [],
   "source": [
    "print('X_train shape:', X_train.shape)\n",
    "print('X_test shape:', X_test.shape)\n",
    "print('y_train shape:', y_train.shape)\n",
    "print('y_test shape:', y_test.shape)"
   ]
  },
  {
   "cell_type": "code",
   "execution_count": null,
   "metadata": {},
   "outputs": [],
   "source": []
  },
  {
   "cell_type": "markdown",
   "metadata": {},
   "source": [
    "<a id='2'></a>"
   ]
  },
  {
   "cell_type": "markdown",
   "metadata": {},
   "source": [
    "## [2. train에 대해서 로지스틱 모델을 학습시키고 모델을 평가해주세요.](#0)"
   ]
  },
  {
   "cell_type": "code",
   "execution_count": null,
   "metadata": {
    "scrolled": true
   },
   "outputs": [],
   "source": [
    "from sklearn.linear_model import LogisticRegression\n",
    "\n",
    "logistic_ = LogisticRegression()\n",
    "logistic_.fit(X_train, y_train)\n",
    "\n",
    "train_ = logistic_.predict(X_train)\n",
    "test_ = logistic_.predict(X_test)\n",
    "\n",
    "\n",
    "\n"
   ]
  },
  {
   "cell_type": "code",
   "execution_count": null,
   "metadata": {},
   "outputs": [],
   "source": [
    "\n",
    "print('Train Data')\n",
    "print('정확도: ', round(accuracy_score(y_train, train_),3))\n",
    "print('Precision:', round(precision_score(y_train, train_),3))\n",
    "print('Recall: ', round(recall_score(y_train, train_),3))\n",
    "print('F1 Score:', round(f1_score(y_train, train_),3))\n",
    "\n",
    "\n",
    "print('Test Data')\n",
    "print('정확도: ', round(accuracy_score(y_test, test_),3))\n",
    "print('Precision:', round(precision_score(y_test, test_),3))\n",
    "print('Recall: ', round(recall_score(y_test, test_),3))\n",
    "print('F1 Score:', round(f1_score(y_test, test_),3))\n"
   ]
  },
  {
   "cell_type": "code",
   "execution_count": null,
   "metadata": {},
   "outputs": [],
   "source": [
    "print('회귀계수:', logistic_.coef_)\n",
    "print('Accuracy:', round(logistic_.score(X, y),3))"
   ]
  },
  {
   "cell_type": "code",
   "execution_count": null,
   "metadata": {},
   "outputs": [],
   "source": [
    "pred_logistic = logistic_.predict(X)\n",
    "\n",
    "print('Accuracy: ', round(accuracy_score(y, pred_logistic),3))\n",
    "print('Recall: ', round(recall_score(y, pred_logistic),3))\n",
    "print('Precision:', round(precision_score(y, pred_logistic),3))\n",
    "print('F1 Score:', round(f1_score(y, pred_logistic),3))"
   ]
  },
  {
   "cell_type": "code",
   "execution_count": null,
   "metadata": {},
   "outputs": [],
   "source": []
  },
  {
   "cell_type": "markdown",
   "metadata": {},
   "source": [
    "<a id='3'></a>"
   ]
  },
  {
   "cell_type": "markdown",
   "metadata": {},
   "source": [
    "## [3. train에 대해서 트리 모델을 학습시키고 모델을 평가해주세요.](#0)"
   ]
  },
  {
   "cell_type": "code",
   "execution_count": null,
   "metadata": {},
   "outputs": [],
   "source": [
    "from sklearn.tree import DecisionTreeClassifier\n",
    "tree = DecisionTreeClassifier()\n",
    "tree.fit(X_train, y_train)\n",
    "\n",
    "train_pred_tree = tree.predict(X_train)\n",
    "test_pred_tree = tree.predict(X_test)"
   ]
  },
  {
   "cell_type": "code",
   "execution_count": null,
   "metadata": {},
   "outputs": [],
   "source": [
    "print('Train Data')\n",
    "print('Accuracy: ', round(accuracy_score(y_train, train_pred_tree),3))\n",
    "print('Precision:', round(precision_score(y_train, train_pred_tree),3))\n",
    "print('Recall: ', round(recall_score(y_train, train_pred_tree),3))\n",
    "print('F1 Score:', round(f1_score(y_train, train_pred_tree),3))"
   ]
  },
  {
   "cell_type": "code",
   "execution_count": null,
   "metadata": {
    "scrolled": false
   },
   "outputs": [],
   "source": [
    "print('Test Data')\n",
    "print('Accuracy: ', round(accuracy_score(y_test, test_pred_tree),3))\n",
    "print('Precision:', round(precision_score(y_test, test_pred_tree),3))\n",
    "print('Recall: ', round(recall_score(y_test, test_pred_tree),3))\n",
    "print('F1 Score:', round(f1_score(y_test, test_pred_tree),3))"
   ]
  },
  {
   "cell_type": "code",
   "execution_count": null,
   "metadata": {},
   "outputs": [],
   "source": [
    "#복잡한 트리는 기존에 있는 데이터들은 잘 예측하나, 새로운 데이터는 잘 예측하지 못하고 있음\n",
    "#적당한 가지에서 잘라내야함, pruning\n",
    "tree = DecisionTreeClassifier(max_depth = 4)\n",
    "tree.fit(X_train, y_train)\n",
    "\n",
    "train_pred_tree = tree.predict(X_train)\n",
    "test_pred_tree = tree.predict(X_test)"
   ]
  },
  {
   "cell_type": "code",
   "execution_count": null,
   "metadata": {},
   "outputs": [],
   "source": [
    "print('Train Data')\n",
    "print('Accuracy: ', round(accuracy_score(y_train, train_pred_tree),3))\n",
    "print('Precision:', round(precision_score(y_train, train_pred_tree),3))\n",
    "print('Recall: ', round(recall_score(y_train, train_pred_tree),3))\n",
    "print('F1 Score:', round(f1_score(y_train, train_pred_tree),3))"
   ]
  },
  {
   "cell_type": "code",
   "execution_count": null,
   "metadata": {},
   "outputs": [],
   "source": [
    "print('Test Data')\n",
    "print('Accuracy: ', round(accuracy_score(y_test, test_pred_tree),3))\n",
    "print('Precision:', round(precision_score(y_test, test_pred_tree),3))\n",
    "print('Recall: ', round(recall_score(y_test, test_pred_tree),3))\n",
    "print('F1 Score:', round(f1_score(y_test, test_pred_tree),3))"
   ]
  },
  {
   "cell_type": "markdown",
   "metadata": {},
   "source": [
    "<a id='4'></a>"
   ]
  },
  {
   "cell_type": "markdown",
   "metadata": {},
   "source": [
    "## [4. train에 대해서 랜덤 포레스트 모델을 학습시키고 모델을 평가해주세요.](#0)"
   ]
  },
  {
   "cell_type": "code",
   "execution_count": null,
   "metadata": {},
   "outputs": [],
   "source": [
    "from sklearn.ensemble import RandomForestClassifier\n",
    "\n",
    "randomforest = RandomForestClassifier()\n",
    "randomforest.fit(X_train, y_train)\n",
    "\n",
    "train_pred_randomforest = randomforest.predict(X_train)\n",
    "test_pred_randomforest = randomforest.predict(X_test)\n",
    "\n",
    "print('Train Data')\n",
    "print('정확도: ', round(accuracy_score(y_train, train_pred_randomforest),3))\n",
    "print('Test Data')\n",
    "print('정확도: ', round(accuracy_score(y_test, test_pred_randomforest),3))"
   ]
  },
  {
   "cell_type": "markdown",
   "metadata": {},
   "source": [
    "<a id='5'></a>"
   ]
  },
  {
   "cell_type": "markdown",
   "metadata": {},
   "source": [
    "## [5. 트리 모델과 랜덤 포레스트 모델의 성능을 비교하고 왜 그런 차이가 났는 지 설명하세요.](#0)"
   ]
  },
  {
   "cell_type": "markdown",
   "metadata": {},
   "source": []
  },
  {
   "cell_type": "code",
   "execution_count": null,
   "metadata": {},
   "outputs": [],
   "source": []
  },
  {
   "cell_type": "code",
   "execution_count": null,
   "metadata": {},
   "outputs": [],
   "source": []
  },
  {
   "cell_type": "code",
   "execution_count": null,
   "metadata": {},
   "outputs": [],
   "source": []
  },
  {
   "cell_type": "code",
   "execution_count": null,
   "metadata": {},
   "outputs": [],
   "source": []
  },
  {
   "cell_type": "code",
   "execution_count": null,
   "metadata": {},
   "outputs": [],
   "source": []
  },
  {
   "cell_type": "code",
   "execution_count": null,
   "metadata": {},
   "outputs": [],
   "source": []
  },
  {
   "cell_type": "code",
   "execution_count": null,
   "metadata": {},
   "outputs": [],
   "source": []
  },
  {
   "cell_type": "code",
   "execution_count": null,
   "metadata": {},
   "outputs": [],
   "source": []
  },
  {
   "cell_type": "code",
   "execution_count": null,
   "metadata": {},
   "outputs": [],
   "source": []
  },
  {
   "cell_type": "code",
   "execution_count": null,
   "metadata": {},
   "outputs": [],
   "source": []
  },
  {
   "cell_type": "code",
   "execution_count": null,
   "metadata": {},
   "outputs": [],
   "source": []
  },
  {
   "cell_type": "code",
   "execution_count": null,
   "metadata": {},
   "outputs": [],
   "source": []
  }
 ],
 "metadata": {
  "kernelspec": {
   "display_name": "Python 3",
   "language": "python",
   "name": "python3"
  },
  "language_info": {
   "codemirror_mode": {
    "name": "ipython",
    "version": 3
   },
   "file_extension": ".py",
   "mimetype": "text/x-python",
   "name": "python",
   "nbconvert_exporter": "python",
   "pygments_lexer": "ipython3",
   "version": "3.8.8"
  }
 },
 "nbformat": 4,
 "nbformat_minor": 4
}
